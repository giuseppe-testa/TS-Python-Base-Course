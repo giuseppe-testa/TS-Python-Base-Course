{
 "cells": [
  {
   "cell_type": "markdown",
   "id": "445bdaa5-4e50-44c9-84df-02f7633046d9",
   "metadata": {},
   "source": [
    "# **Python Basics Course: Exercises**"
   ]
  },
  {
   "cell_type": "markdown",
   "id": "38df6215-2070-47f7-b7d7-a4d16083ff90",
   "metadata": {},
   "source": [
    "# **7. Class and Objects in Python**"
   ]
  },
  {
   "cell_type": "markdown",
   "id": "9c0feda5-c613-48b3-b9a8-4ae18bfee4fb",
   "metadata": {},
   "source": [
    "**Exercise 1.1: Class and Instance Attributes**\n",
    "\n",
    "1. Create a class called `Person` with the following attributes:\n",
    "   - `name`: A string representing the name of the person.\n",
    "   - `age`: An integer representing the person's age.\n",
    "   - `city`: A string representing the city where the person lives.\n",
    "\n",
    "2. Create an instance of the `Person` class with:\n",
    "    - Name: `\"Alice\"`\n",
    "    - Age: `30`\n",
    "    - City: `\"Campobasso\"`\n",
    "\n",
    "3. Access the `name` and `city` attributes of the instance and print them.\n",
    "\n",
    "4. Modify the `age` attribute of the instance to `31` and print the new value."
   ]
  },
  {
   "cell_type": "code",
   "execution_count": null,
   "id": "6496d9ae-8ee9-44ad-bc51-8b5b0eb175da",
   "metadata": {},
   "outputs": [],
   "source": [
    "# Your solution\n",
    "\n",
    "# Step 1: Define the Person class with attributes and a method\n",
    "class Person:\n",
    " def __init__(self, name, age, city):\n",
    "     ...\n",
    "\n",
    "# Step 2: Create an instance of the Person class\n",
    "person1 = ...\n",
    "\n",
    "# Step 3: Access and print the name and city attributes\n",
    "print(f\"Name: {person1.name}\")  # Outputs: Alice\n",
    "print(f\"City: {...}\")  # Outputs: New York\n",
    "\n",
    "# Step 4: Modify the age attribute\n",
    "person1.age = ...\n",
    "print(f\"Age: {person1.age}\")"
   ]
  },
  {
   "cell_type": "markdown",
   "id": "16a75254-9283-40f5-aa32-60e3e7ef186e",
   "metadata": {},
   "source": [
    "# **8. Functions in Python**"
   ]
  },
  {
   "attachments": {},
   "cell_type": "markdown",
   "id": "8890f24e-548c-44a9-b42d-a2b40a51d609",
   "metadata": {
    "jp-MarkdownHeadingCollapsed": true
   },
   "source": [
    "**Ex 3.1: Divide numbers**\n",
    "\n",
    "**Step 1: Define the Function**\n",
    "- Create a function named `divide_numbers` that accepts two parameters: `a` (dividend) and `b` (divisor).\n",
    "- Ensure the function has a docstring explaining its purpose.\n",
    "\n",
    "**Step 2: Perform the Division**\n",
    "- Calculate the **quotient** (integer division) of `a` divided by `b`.\n",
    "- Calculate the **remainder** (modulus operation) of `a` divided by `b`.\n",
    "\n",
    "**Step 3: Return the Results**\n",
    "- Return both the quotient and remainder as a tuple.\n",
    "\n",
    "**Step 4: Test the Function**\n",
    "- Call the function with sample inputs (e.g., `a = 10` and `b = 3`).\n",
    "- Store the returned values in two variables and print them in a user-friendly format.\n",
    "\n",
    "---\n",
    "\n",
    "**Example Input**\n",
    "```python\n",
    "a = 10\n",
    "b = 3"
   ]
  },
  {
   "cell_type": "code",
   "execution_count": null,
   "id": "a344362b-c6a4-4b7b-920e-8e1d3c4fb283",
   "metadata": {},
   "outputs": [],
   "source": [
    "# Your solution\n",
    "\n",
    "def divide_numbers(a, b):\n",
    "    \"\"\"Returns the quotient and remainder of two numbers.\"\"\"\n",
    "    quotient = ...\n",
    "    remainder = ...\n",
    "    return quotient, remainder\n",
    "\n",
    "a = 10\n",
    "b = 3\n",
    "print(divide_numbers(a, b))"
   ]
  },
  {
   "cell_type": "markdown",
   "id": "5dcd6330-449f-428c-88c0-8cc5b6c76203",
   "metadata": {},
   "source": [
    "**Ex 3.2 Greeting Function**\n",
    "\n",
    "Create a function called `greet` that takes two parameters: \n",
    "1. `language` - a string that specifies the language `\"en\"` or `\"it\"`( with `it` as default value).\n",
    "2. `name` - the name of the person to greet.\n",
    "\n",
    "The function should:\n",
    "- Return `\"Hello, [name]!\"` if the language is `\"en\"`.\n",
    "- Return `\"Ciao, [name]!\"` if the language is `\"it\"`.\n",
    "\n",
    "Test the function with different combinations of `language` and `name`."
   ]
  },
  {
   "cell_type": "code",
   "execution_count": null,
   "id": "6d7cba97-a314-4f6c-b35a-c362630b47a8",
   "metadata": {},
   "outputs": [],
   "source": [
    "# Your solution\n",
    "\n",
    "def greet(name, language='it'):\n",
    "    \"\"\"Questa funzione saluta\"\"\"\n",
    "    \n",
    "    if ...\n",
    "        return f\"Hello, {name}!\"\n",
    "    elif language[:2] == 'it':\n",
    "        return ...\n",
    "    else:\n",
    "        return f\"Language not supported.\""
   ]
  },
  {
   "cell_type": "code",
   "execution_count": null,
   "id": "7e79dbba-3150-417b-8a8b-9ed29d17fc19",
   "metadata": {},
   "outputs": [],
   "source": [
    "# Test cases\n",
    "print(greet(...))  # Output: Hello, Alice!\n",
    "print(greet(...))  # Output: Ciao, Luigi!\n",
    "print(greet(...))  # Output: Ciao, Luigi!\n",
    "print(greet(...))  # Output: Language not supported, Maria!"
   ]
  },
  {
   "cell_type": "markdown",
   "id": "8ff6f957-2c94-4fce-aade-e005cbf2c521",
   "metadata": {},
   "source": [
    "# **9. Methods**"
   ]
  },
  {
   "cell_type": "code",
   "execution_count": null,
   "id": "eb2e1191-9edf-40cd-86f9-f3847a7522f6",
   "metadata": {},
   "outputs": [],
   "source": [
    "# Example: Class Method vs Instance Method\n",
    "\n",
    "class Employee:\n",
    "    company_name = \"TechCorp\"  # Class-level attribute\n",
    "\n",
    "    def __init__(self, name, age):\n",
    "        self.name = name  # Instance-level attribute\n",
    "        self.age = age    # Instance-level attribute\n",
    "\n",
    "    # Instance method\n",
    "    def display_details(self):\n",
    "        return f\"Name: {self.name}, Age: {self.age}, Company: {Employee.company_name}\"\n",
    "\n",
    "    # Class method\n",
    "    @classmethod\n",
    "    def company_info(cls):\n",
    "        # Cannot access self.name or self.age because they belong to the instance\n",
    "        return f\"Company Name: {cls.company_name}\""
   ]
  },
  {
   "cell_type": "code",
   "execution_count": null,
   "id": "bdf1b0a8-ecdd-48f9-9171-7c8d840e6ddf",
   "metadata": {},
   "outputs": [],
   "source": [
    "# Create an instance of Employee\n",
    "emp = Employee(\"Alice\", 30)\n",
    "\n",
    "# Call instance method\n",
    "print(emp.display_details())  # Accesses instance and class-level data\n",
    "\n",
    "# Call class method\n",
    "print(Employee.company_info())  # Accesses only class-level data"
   ]
  },
  {
   "cell_type": "code",
   "execution_count": null,
   "id": "d9ad7329-1dc1-45fd-aa4a-6a4c0f3d8606",
   "metadata": {},
   "outputs": [],
   "source": [
    "# Instance calling class method\n",
    "emp.company_info()"
   ]
  },
  {
   "cell_type": "code",
   "execution_count": null,
   "id": "c7b8f05c-4179-4d13-bb7d-81a20f748fd0",
   "metadata": {},
   "outputs": [],
   "source": [
    "# Class calling instance method\n",
    "Employee.display_details()"
   ]
  },
  {
   "cell_type": "markdown",
   "id": "4d9ccabb-4ad6-47b2-a964-a309a5b07e7e",
   "metadata": {},
   "source": [
    "**Explanation:**\n",
    "\n",
    "1. Instance Method (display_details):\n",
    "    - Can access both instance attributes (name, age) and class attributes (company_name).\n",
    "    - Uses self to refer to the instance.\n",
    "\n",
    "2. Class Method (company_info):\n",
    "    - Can only access class attributes (company_name).\n",
    "    - Uses cls to refer to the class.\n",
    "    - Cannot access name or age because they are instance-specific attributes."
   ]
  },
  {
   "cell_type": "markdown",
   "id": "2278ca02-7206-41d1-bfc7-5c8ab73829b4",
   "metadata": {},
   "source": [
    "# **10. Core Principles of OOP**"
   ]
  },
  {
   "cell_type": "markdown",
   "id": "58734c9b-dec6-4146-9a22-43cb12754a40",
   "metadata": {},
   "source": [
    "**Example 5.1: Exploring Inheritance and Attributes in Python**\n",
    "\n",
    "1. Define a **parent class** called `Vehicle` with:\n",
    "   - An initializer method (`__init__`) that takes an optional argument `type_of_vehicle` with a default value of `\"unknown\"`.\n",
    "   - An instance attribute `type_of_vehicle` that stores the type of the vehicle."
   ]
  },
  {
   "cell_type": "code",
   "execution_count": null,
   "id": "1125727b-0e04-4860-8d7d-b3d1e3e12a97",
   "metadata": {},
   "outputs": [],
   "source": [
    "# Define the parent class Vehicle\n",
    "class Vehicle:\n",
    "    def __init__(self, type_of_vehicle=\"unknown\"):\n",
    "        .."
   ]
  },
  {
   "cell_type": "markdown",
   "id": "a6bbc631-e99a-4771-864f-582403395797",
   "metadata": {},
   "source": [
    "2. Create an instance of the `Vehicle` class:\n",
    "   - Use the default value for `type_of_vehicle` in one instance.\n",
    "   - Specify `\"Bike\"` as the type in another instance.\n",
    "   - Print the attributes of the second instance using the `__dict__` method."
   ]
  },
  {
   "cell_type": "code",
   "execution_count": null,
   "id": "0a961b66-ca72-45b3-8e5a-c876c7d9909c",
   "metadata": {},
   "outputs": [],
   "source": [
    "# Create an instance of Vehicle with the default type\n",
    "...\n",
    "\n",
    "# Create another instance of Vehicle, specifying the type as \"Bike\"\n",
    "...\n",
    "\n",
    "# Display the attributes of the instance as a dictionary\n",
    "print(\"My vehicle's attributes: \", ...)"
   ]
  },
  {
   "cell_type": "markdown",
   "id": "e9e8e95e-5010-4c67-8279-3ce6d6a73423",
   "metadata": {},
   "source": [
    "3. Define a **child class** called `Car` that inherits from `Vehicle`:\n",
    "   - Add a class-level attribute `number_of_wheels` with a value of `4`.\n",
    "   - Modify the initializer to add `make` and `model` as instance attributes with default values `\"unknown\"`.\n",
    "   - Ensure that the initializer calls the parent class's initializer with the type `\"Car\"`."
   ]
  },
  {
   "cell_type": "code",
   "execution_count": null,
   "id": "995fb538-67cb-42aa-82e1-dc35b6d4018f",
   "metadata": {},
   "outputs": [],
   "source": [
    "# Define a subclass Car that inherits from Vehicle\n",
    "class Car(Vehicle):\n",
    "    ... # Class-level attribute specific to cars\n",
    "\n",
    "    def __init__(self, make=\"unknown\", model=\"unknown\"):\n",
    "        ...  # Call the initializer of the parent Vehicle class\n",
    "        ...         # Instance attribute for car make\n",
    "        ...       # Instance attribute for car model"
   ]
  },
  {
   "cell_type": "markdown",
   "id": "bd53ea0a-68b8-4166-b609-b22e040d6c8e",
   "metadata": {},
   "source": [
    "4. Create an instance of the `Car` class:\n",
    "   - Specify the make as `\"Fiat\"` and the model as `\"Panda\"`.\n",
    "   - Print the attributes of the instance using the `__dict__` method.\n",
    "   - Access and print the class-level attribute `number_of_wheels`."
   ]
  },
  {
   "cell_type": "code",
   "execution_count": null,
   "id": "e824bcc9-49a0-4412-926f-44a2f3842a2f",
   "metadata": {},
   "outputs": [],
   "source": [
    "# Create an instance of Car, specifying the make and model\n",
    "...\n",
    "\n",
    "# Display the attributes of the Car instance as a dictionary\n",
    "print(\"My car's attributes: \", ...)\n",
    "\n",
    "# Access the class-level attribute for the number of wheels\n",
    "print(\"My car's number of wheels: \", ...)"
   ]
  },
  {
   "cell_type": "markdown",
   "id": "d545f921-aac8-4a23-b9a5-9ec82d112a09",
   "metadata": {},
   "source": [
    "5. Define another **child class** called `Bike` that inherits from `Vehicle`:\n",
    "   - Add a class-level attribute `number_of_wheels` with a value of `2`.\n",
    "   - Modify the initializer to add `make` and `model` as instance attributes with default values `\"unknown\"`.\n",
    "   - Ensure that the initializer calls the parent class's initializer with the type `\"Bike\"`."
   ]
  },
  {
   "cell_type": "code",
   "execution_count": null,
   "id": "3cfd2066-114f-4ecc-ab49-d51168326e2f",
   "metadata": {},
   "outputs": [],
   "source": [
    "# Define a subclass Bike that inherits from Vehicle\n",
    "class Bike(Vehicle):\n",
    "    ...  # Class-level attribute specific to bikes\n",
    "\n",
    "    def __init__(self, make='unknown', model='unknown'):\n",
    "        ...  # Call the initializer of the parent Vehicle class\n",
    "        ...         # Instance attribute for bike make\n",
    "        ...        # Instance attribute for bike model"
   ]
  },
  {
   "cell_type": "markdown",
   "id": "85ce3135-0e94-4ba6-ba75-243c57567dbb",
   "metadata": {},
   "source": [
    "6. Create an instance of the `Bike` class:\n",
    "   - Use the default values for the make and model.\n",
    "   - Access and print the class-level attribute `number_of_wheels`.\n",
    "   - Access and print the instance attribute for `make`."
   ]
  },
  {
   "cell_type": "code",
   "execution_count": null,
   "id": "d32d90cf-3c34-4bd7-ac77-8c836d4453ae",
   "metadata": {},
   "outputs": [],
   "source": [
    "# Create an instance of Bike with default make and model\n",
    "...\n",
    "\n",
    "# Access the class-level attribute for the number of wheels\n",
    "print(\"My bike's number of wheels: \", ...)\n",
    "\n",
    "# Access the instance attribute for the make\n",
    "print(\"My bike's make: \", ...)"
   ]
  },
  {
   "cell_type": "markdown",
   "id": "1259e834-b1b4-470d-8a25-e6ba0f4fab65",
   "metadata": {},
   "source": [
    "**Expected Output**\n",
    "After completing the exercise, your code should demonstrate the following:\n",
    "- Proper inheritance between the `Vehicle`, `Car`, and `Bike` classes.\n",
    "- Correct initialization and modification of both class-level and instance-level attributes.\n",
    "- Successful access to attributes using instances of `Car` and `Bike`."
   ]
  },
  {
   "cell_type": "markdown",
   "id": "065954f5-8714-47db-95d8-f9dd1e191072",
   "metadata": {},
   "source": [
    "**Bonus Challenge**\n",
    "- Modify the `Car` and `Bike` classes to include a method `display_info` that prints all the details of the vehicle in a readable format."
   ]
  },
  {
   "cell_type": "code",
   "execution_count": null,
   "id": "71ef927b-035b-4ad8-be61-7476496e2e06",
   "metadata": {},
   "outputs": [],
   "source": [
    "# Define the parent class Vehicle\n",
    "class Vehicle:\n",
    "    ...\n",
    "\n",
    "    def display_info(self):\n",
    "        \"\"\"Displays the type of the vehicle.\"\"\"\n",
    "        print(f\"Vehicle Type: {...}\")\n",
    "\n",
    "\n",
    "# Define the child class Car\n",
    "class Car(Vehicle):\n",
    "    ...\n",
    "\n",
    "    def display_info(self):\n",
    "        \"\"\"Displays detailed information about the car.\"\"\"\n",
    "        super().display_info()  # Call the parent class's display_info method\n",
    "        print(...)\n",
    "\n",
    "\n",
    "# Define the child class Bike\n",
    "class Bike(Vehicle):\n",
    "    ...\n",
    "\n",
    "    def display_info(self):\n",
    "        \"\"\"Displays detailed information about the bike.\"\"\"\n",
    "        super().display_info()  # Call the parent class's display_info method\n",
    "        print(...)"
   ]
  },
  {
   "cell_type": "code",
   "execution_count": null,
   "id": "acacbd0b-c85d-42da-9831-f044b22f18c7",
   "metadata": {},
   "outputs": [],
   "source": [
    "# Test the classes with the display_info method\n",
    "# Create a Car instance\n",
    "my_car = Car(\"Fiat\", \"Panda\")\n",
    "print(\"Car Information:\")\n",
    "my_car.display_info()  # Display car details\n",
    "\n",
    "print(\"\\n\")  # Add a newline for clarity\n",
    "\n",
    "# Create a Bike instance\n",
    "my_bike = Bike(\"Trek\", \"Domane\")\n",
    "print(\"Bike Information:\")\n",
    "my_bike.display_info()  # Display bike details"
   ]
  },
  {
   "cell_type": "code",
   "execution_count": null,
   "id": "ba59f47b-4d55-47bc-aff1-1e3f5bbdf03e",
   "metadata": {},
   "outputs": [],
   "source": []
  }
 ],
 "metadata": {
  "kernelspec": {
   "display_name": "Python 3 (ipykernel)",
   "language": "python",
   "name": "python3"
  },
  "language_info": {
   "codemirror_mode": {
    "name": "ipython",
    "version": 3
   },
   "file_extension": ".py",
   "mimetype": "text/x-python",
   "name": "python",
   "nbconvert_exporter": "python",
   "pygments_lexer": "ipython3",
   "version": "3.11.7"
  }
 },
 "nbformat": 4,
 "nbformat_minor": 5
}
