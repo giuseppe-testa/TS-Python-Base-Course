{
 "cells": [
  {
   "cell_type": "markdown",
   "id": "445bdaa5-4e50-44c9-84df-02f7633046d9",
   "metadata": {},
   "source": [
    "**<h1><center>**Python Basics Course**</center></h1>**"
   ]
  },
  {
   "cell_type": "markdown",
   "id": "c3bf996f-9f5a-4c9a-a6d1-0d559f208096",
   "metadata": {},
   "source": [
    "## **Course Overview**"
   ]
  },
  {
   "cell_type": "markdown",
   "id": "ba2c0a85-c8b4-4cb9-af5e-53576a52fac0",
   "metadata": {},
   "source": [
    "In this course, we will cover the fundamentals of Python, including:\n",
    "\n",
    "- Python basics and syntax\n",
    "- Data types and variables\n",
    "- Loops and conditional statements\n",
    "- Functions and modules\n",
    "- A mini project to apply your skills\n",
    "\n",
    "By the end of the course, you’ll gain a basic understanding of Python and be ready to take on more complex challenges!"
   ]
  },
  {
   "cell_type": "markdown",
   "id": "02654bc0-4d4c-40c8-affe-211e3c65999f",
   "metadata": {},
   "source": [
    "### Python Basics Course Schedule"
   ]
  },
  {
   "cell_type": "markdown",
   "id": "a26a6ffb-0338-4b52-b1c9-5acffece80e1",
   "metadata": {},
   "source": [
    "| Time          | Topic                                | Description                          |\n",
    "|---------------|--------------------------------------|--------------------------------------------------|\n",
    "| **10:00**     | Welcome & Setup                     | Introduction and environment setup.   |\n",
    "| **10:15**     | Introduction to the Python Language  | What is Python, its features, and why it's popular. |\n",
    "| **BONUS**     | Installing Python and an IDE         | Guide to installing Python and setting up an IDE.     |\n",
    "| **10:30**     | 1. Basic Data Types and Variables       | Understanding Python data types and variables. |\n",
    "| **11:00**     | 2. Basic Python Syntax                  | Writing Python code: syntax, indentation, and structure. |\n",
    "| **11:25**     | Break                                | Relax and recharge.              |\n",
    "| **11:35**     | 3. Operators                            | Arithmetic, logical, and comparison operators in Python. |\n",
    "| **12:00**     | 4. Conditional Statements and Loops     | If-else, for, while, range, map, filter, ecc. |\n",
    "| **12:30**     | 5. Data Structures                      | Lists, Tuples, Set and Dictionaries. |\n",
    "| **13:00**     | Lunch                      |  |\n",
    "| **14:00**     | 6. Introduction to Object-Oriented Programming (OOP) | Overview of OOP.        |\n",
    "| **14:15**     | 7. Objects in Python                   | Introduction to classes and objects in Python. |\n",
    "| **14:45**     | 8. Functions                | Learn the fundamentals of functions. |\n",
    "| **15:15**     | 9. Methods                 | Class and instance methods. |\n",
    "| **15:50**     | Break                               | Relax and recharge.                 |\n",
    "| **16:00**     | 10. OOP Principles                | Encapsulation, inheritance, polymorphism, and abstraction.|\n",
    "| **16:45**     | Lab                                 | Hands-on session. |\n"
   ]
  },
  {
   "cell_type": "markdown",
   "id": "011b63b2-5d67-4f61-8b60-d5da56093520",
   "metadata": {},
   "source": [
    "# **Introduction to the Python Language**\n",
    "\n",
    "**10:15 |** What is Python, its features, and why it's popular?"
   ]
  },
  {
   "cell_type": "markdown",
   "id": "5256e10e-0e95-4595-b1ca-397aa5674910",
   "metadata": {},
   "source": [
    "### **What is Python**\n",
    "\n",
    "Python is a **high-level**, **interpreted** programming language. Designed to emphasize code **readability** and **ease of use** with its clean and straightforward syntax,  making it an excellent choice for both beginners and experienced programmers.\n",
    "\n",
    "Python is widely used in various fields, such as:\n",
    "- **Web Development** (e.g., Flask, Django)\n",
    "- **Data Science and Machine Learning** (e.g., Pandas, NumPy, TensorFlow)\n",
    "- **Automation/Scripting** (e.g., automating repetitive tasks)\n",
    "- **Game Development** (e.g., Pygame)\n",
    "- **Desktop Applications** (e.g., Tkinter, PyQt)\n",
    "---"
   ]
  },
  {
   "cell_type": "markdown",
   "id": "d2853377-b2d6-4456-8075-bce1b809a702",
   "metadata": {},
   "source": [
    "#### **Key Features of Python**\n",
    "\n",
    "Here are some of the standout features of Python:\n",
    "\n",
    "- **Simple and Easy to Learn**: Python has an intuitive syntax that resembles plain English, allowing you to focus on solving problems rather than struggling with complex syntax.\n",
    "\n",
    "- **Interpreted Language**: Python executes code line by line, which makes debugging and testing easier.\n",
    "\n",
    "- **Cross-Platform**: Python works seamlessly on multiple platforms, such as Windows, macOS, and Linux.\n",
    "\n",
    "- **Extensive Library Support**: Python comes with a vast collection of libraries and frameworks that speed up development.\n",
    "\n",
    "- **Open Source**: Python is free to use and distribute, with a large, supportive community of developers worldwide."
   ]
  },
  {
   "cell_type": "markdown",
   "id": "69ef61aa-65b0-4184-97be-dac43bb0bd73",
   "metadata": {},
   "source": [
    "##### **High-Level Programming Language**\n",
    "\n",
    "A high-level programming language, like Python, is designed to be easy for humans to read and write. It abstracts away the complex details of the computer’s hardware, allowing programmers to focus on solving problems rather than worrying about how the computer executes tasks at a low level. For example, in Python, you can perform operations with simple commands without dealing with memory management or machine-level instructions.\n",
    "\n",
    "Key Characteristics of High-Level Languages:\n",
    "\n",
    "- Readable and close to natural language (English-like syntax).\n",
    "- Handles low-level operations (e.g., memory management) automatically.\n",
    "- Portable across different platforms with minimal changes.\n",
    "\n",
    "---\n",
    "\n",
    "```python\n",
    "# High-level code to read a file and print its contents\n",
    "with open(\"example.txt\", \"r\") as file:\n",
    "    content = file.read()\n",
    "    print(content)\n",
    "```\n",
    "\n",
    "---"
   ]
  },
  {
   "cell_type": "markdown",
   "id": "d71c2458-2f6c-40f1-8550-a069b6b7ecc6",
   "metadata": {},
   "source": [
    "##### **Interpreted Programming Language**\n",
    "\n",
    "Python is an interpreted language, which means that its code is **executed line-by-line** by an interpreter rather than being compiled into machine code beforehand. This allows for immediate feedback, making Python ideal for **prototyping and debugging.**\n",
    "\n",
    "Key Characteristics of Interpreted Languages:\n",
    "\n",
    "- No need for explicit compilation; code runs directly in an interpreter.\n",
    "- Easier to test and debug because errors are identified at runtime.\n",
    "- Slower execution speed compared to compiled languages (e.g., C or C++), but this is often outweighed by development speed and flexibility.\n"
   ]
  },
  {
   "cell_type": "markdown",
   "id": "a3fd2d54-9477-4e90-98df-f0a068099c68",
   "metadata": {},
   "source": [
    "##### **Cross-Platform**\n",
    "Python is a cross-platform language, meaning that Python code can run on multiple operating systems, including Windows, macOS, and Linux, without needing modification. This makes Python highly versatile for developers, as it allows programs to work seamlessly across different environments, enabling easier collaboration and wider application.\n"
   ]
  },
  {
   "cell_type": "markdown",
   "id": "df372192-4ae0-47ec-804d-d78e83368dcb",
   "metadata": {},
   "source": [
    "##### **Extensive Library Support**\n",
    "One of Python's greatest strengths is **its extensive library support**. Python comes with a vast collection of built-in libraries and third-party frameworks, which provide pre-built solutions for common tasks such as web development, data analysis, machine learning, and more. These libraries save developers time by offering ready-to-use functionality, allowing them to focus on building the unique parts of their applications."
   ]
  },
  {
   "cell_type": "markdown",
   "id": "0c02e2be-1d1b-402f-8dff-9c0a0c9ad63b",
   "metadata": {},
   "source": [
    "##### **Open Source**\n",
    "Python is open-source, which means it is **free to use, distribute, and modify**. Its open nature has fostered a large, supportive **community** of developers who contribute to the language's growth. This community-driven approach ensures continuous improvements, bug fixes, and a wealth of shared knowledge, making Python an attractive option for developers worldwide.\n",
    "\n",
    "---"
   ]
  },
  {
   "cell_type": "markdown",
   "id": "63d86b5e-4700-4e69-9115-3c385f9cdea9",
   "metadata": {
    "jp-MarkdownHeadingCollapsed": true
   },
   "source": [
    "#### **Python's Origin**\n",
    "\n",
    "Python was created by **Guido van Rossum** in 1991. It was designed to be:\n",
    "\n",
    "- **A language for everyone**: Accessible for both beginners and experts.\n",
    "- **Fun and playful**: Python is named after the British comedy series *Monty Python’s Flying Circus*, not the snake 🐍!\n",
    "\n",
    "---"
   ]
  },
  {
   "cell_type": "markdown",
   "id": "21f0d880-79a2-4985-afae-e0dd139adba2",
   "metadata": {
    "jp-MarkdownHeadingCollapsed": true
   },
   "source": [
    "#### **Why Learn Python?**\n",
    "\n",
    "Here are a few reasons why Python is so popular and why you should learn it:\n",
    "\n",
    "- **Beginner-Friendly**: Its simplicity allows new programmers to pick it up quickly.\n",
    "- **Versatile**: From AI to web apps, Python can do it all.\n",
    "- **Job Market Demand**: Python is one of the most in-demand programming languages globally.\n",
    "\n",
    "---"
   ]
  },
  {
   "cell_type": "markdown",
   "id": "ed90eb74-8cb5-43f7-adb3-f159ccca611e",
   "metadata": {
    "jp-MarkdownHeadingCollapsed": true
   },
   "source": [
    "#### **Python's Popularity**\n",
    "\n",
    "As of today, Python consistently ranks as one of the **top programming languages** worldwide. Here's why:\n",
    "\n",
    "- It powers data analysis at companies like Google, Netflix, and Spotify.\n",
    "- It's heavily used in AI and machine learning.\n",
    "- It's often the first language taught in programming courses due to its simplicity.\n",
    "\n",
    "---"
   ]
  },
  {
   "cell_type": "markdown",
   "id": "dfaab357-54d8-4e40-9933-8959896a302a",
   "metadata": {},
   "source": [
    "# Prerequisites"
   ]
  },
  {
   "cell_type": "markdown",
   "id": "46fe6772-5ab9-42e0-b0f2-784411c25832",
   "metadata": {
    "jp-MarkdownHeadingCollapsed": true
   },
   "source": [
    "Before to dive in the python programming, here's a simple prerequisite warm-up to help explain the basic concepts of programming languages and libraries:\n",
    "\n",
    "**What is a Programming Language?**\n",
    "    \n",
    "A programming language is a **set of rules and instructions used by humans to communicate with computers**. Just as we use English (or other languages) to communicate with each other, we use programming languages to tell computers what to do.\n",
    "\n",
    "A programming language consists of:\n",
    "\n",
    "- **Syntax**: The rules for how we write the instructions (like grammar in a spoken language).\n",
    "- **Semantics**: The meaning behind the instructions (like the meaning of words in a language).\n",
    "\n",
    "For example, in Python, if we want to print a message, we write:\n",
    "\n",
    "```python\n",
    "print(\"Hello, World!\") # This is a Python instruction that tells the computer to display the message Hello, World! on the screen.\n",
    "```\n",
    "\n",
    "Programming languages allow us to:\n",
    "\n",
    "- Write algorithms (step-by-step instructions).\n",
    "- Solve problems using computers.\n",
    "- Control hardware and software systems.\n",
    "  \n",
    "**What is a Library?**\n",
    "In programming, a library is a collection of pre-written code that we can use to perform common tasks without having to write everything from scratch. Think of a library like a toolbox — it contains tools that help you solve specific problems.\n",
    "\n",
    "For example, in Python, there is a math library that provides functions for mathematical operations like square roots, trigonometry, and more. Instead of writing complex math functions yourself, you can simply import the library and use it.\n",
    "\n",
    "Example of using Python's math library:\n",
    "\n",
    "```python\n",
    "import math    # tells Python to load the math library.\n",
    "\n",
    "# Using the sqrt function from the math library to find the square root\n",
    "result = math.sqrt(16)    # uses the pre-written function sqrt from the math library to compute the square root of 16.\n",
    "print(result) \n",
    "# Output: 4.0\n",
    "```\n",
    "\n",
    "**Why Use Libraries?**\n",
    "\n",
    "- Saves time: Libraries contain code that solves common problems, so you don’t need to reinvent the wheel.\n",
    "- Improves efficiency: Using pre-written, well-tested code helps reduce errors.\n",
    "- Focus on what’s important: You can focus on solving your problem, not on implementing basic functionality.\n",
    "\n",
    "\n",
    "**Recap:**\n",
    "- A programming language is a way to give instructions to a computer.\n",
    "- A library is a collection of useful pre-written code that you can use in your program to make your job easier.\n",
    "- These are fundamental concepts that will help you as you start programming in Python!\n",
    "---\n",
    "---"
   ]
  },
  {
   "cell_type": "markdown",
   "id": "1b9f8a6e-f3e9-4b16-9c61-9bad4406acf3",
   "metadata": {
    "jp-MarkdownHeadingCollapsed": true
   },
   "source": [
    "# **Installing Python and an IDE**\n",
    "\n",
    "**BONUS** | Guide to installing Python and setting up an IDE."
   ]
  },
  {
   "cell_type": "markdown",
   "id": "a75b3084-3c6a-45d6-bab8-ea3aad7c039f",
   "metadata": {},
   "source": [
    "Before we begin, let’s make sure your setup is ready to go. Follow these steps:"
   ]
  },
  {
   "cell_type": "markdown",
   "id": "7c4983b2-97e8-44ed-97e4-d83961c5323d",
   "metadata": {
    "jp-MarkdownHeadingCollapsed": true
   },
   "source": [
    "### Step 1: Check if Python is Installed\n",
    "1. Open a terminal (Command Prompt on Windows, Terminal on macOS/Linux).\n",
    "2. Type the following command and press Enter:\n",
    "   ```bash\n",
    "   python --version\n",
    "3. If Python is installed, you’ll see the version number (e.g., Python 3.10.6).\n",
    "4. If Python is not installed, you can download and install it from the official Python website."
   ]
  },
  {
   "cell_type": "code",
   "execution_count": null,
   "id": "49544efb-d928-42cf-b462-ba17bf96ed48",
   "metadata": {},
   "outputs": [],
   "source": [
    "!python --version"
   ]
  },
  {
   "cell_type": "markdown",
   "id": "4c882ae5-a53c-4da6-bf20-6788b96a3d0e",
   "metadata": {},
   "source": [
    "### Step 2: Install a Code Editor or IDE\n",
    "\n",
    "For this course, we are going to use using Jupyter Notebook.\n",
    "\n",
    "Commen tools to write and run your Python code are:\n",
    "\n",
    "- [Visual Studio Code (VS Code)](https://code.visualstudio.com/)\n",
    "- [PyCharm](https://www.jetbrains.com/pycharm/)\n",
    "- [Jupyter Notebook](https://jupyter.org/install)\n"
   ]
  },
  {
   "cell_type": "markdown",
   "id": "43bde771-46bb-4bda-abea-759029132c1a",
   "metadata": {},
   "source": [
    "### Step 3: Set Up Jupyter Notebook"
   ]
  },
  {
   "cell_type": "markdown",
   "id": "7d4c8cff-332f-4160-8336-6c6061c9f023",
   "metadata": {},
   "source": [
    "To work with Jupyter Notebook, follow these steps:\n",
    "\n",
    "1. Open your terminal.\n",
    "2. Run the following command to install Jupyter Notebook (if not already installed):\n",
    "\n",
    "```bash\n",
    "pip install notebook\n",
    "```\n",
    "\n",
    "3. Start Jupyter Notebook by typing:\n",
    "```bash\n",
    "jupyter notebook\n",
    "```\n",
    "\n",
    "4. Your browser will open a new window with the Jupyter interface. Create a new notebook to begin coding!"
   ]
  },
  {
   "cell_type": "markdown",
   "id": "5de500e6-8bf9-4945-9e8f-47cd47cb6988",
   "metadata": {},
   "source": [
    "### Step 4: Verify Your Setup\n",
    "\n",
    "Let’s test your Python setup with a simple program."
   ]
  },
  {
   "cell_type": "code",
   "execution_count": null,
   "id": "b22d009a-b28a-436d-a84f-ccab2d10dfb7",
   "metadata": {},
   "outputs": [],
   "source": [
    "print(\"Hello, Python!\")"
   ]
  },
  {
   "cell_type": "markdown",
   "id": "ce0cdae8-c395-462b-a6c5-68ee3eb159ca",
   "metadata": {},
   "source": [
    "### Step 5: Common Installation Issues and Solutions\n",
    "\n",
    "Here are some common issues you might face and how to resolve them:\n",
    "\n",
    "Issue: python is not recognized as a command\n",
    "Solution: Add Python to your system PATH. Refer to the official guide for detailed steps.\n",
    "\n",
    "Issue: Cannot install Jupyter Notebook\n",
    "Solution: Ensure pip is installed and updated by running:\n",
    "\n",
    "```\n",
    "python -m ensurepip --upgrade\n",
    "pip install --upgrade pip\n",
    "```\n",
    "\n",
    "Issue: Wrong Python version\n",
    "Solution: Install Python 3.x from the official Python website."
   ]
  },
  {
   "cell_type": "markdown",
   "id": "0f82ed0b-fe23-4735-b606-946e29d16f20",
   "metadata": {},
   "source": [
    "# **1. Data Types and Variables**\n",
    "\n",
    "**10:30 AM** | Understanding Python data types (int, floats, str, and bool) and variables"
   ]
  },
  {
   "cell_type": "markdown",
   "id": "c299da3f-306f-4d1f-ade7-e89eac6be4c3",
   "metadata": {},
   "source": [
    "A **data type** in programming refers to a classification that specifies the type of value a variable can hold and determines how that value can be used and stored in memory.\n",
    "\n",
    "**Basic Data Types in Python**\n",
    "\n",
    "1. **Integer (`int`)**: Whole numbers (e.g., 1, -3, 42).\n",
    "2. **Float (`float`)**: Numbers with decimals (e.g., 3.14, -0.01).\n",
    "3. **String (`str`)**: Text data, enclosed in quotes (e.g., \"Hello\", 'World').\n",
    "4. **Boolean (`bool`)**: True or False values, used in logical operations.\n",
    "\n",
    "\n",
    "\n",
    "Data types define:\n",
    "\n",
    "- What kind of data can be stored (e.g., numbers, text, boolean values).\n",
    "- What operations can be performed on the data (e.g., addition for numbers, concatenation for strings).\n",
    "- How much memory is allocated for the data.\n",
    "\n",
    "**What Are Variables?**\n",
    "In Python, data is stored in variables. Variables are like containers that hold information, and each type of information has a specific data type.\n",
    " You can think of it as a label for a piece of data.\n",
    "\n",
    "**Syntax:**\n",
    "```python\n",
    "variable_name = value\n",
    "```\n",
    "\n",
    "**Key Notes:**\n",
    "- Data types are **dynamically assigned**, you don’t need to declare the data type in Python; it’s inferred from the value assigned to the variable.\n",
    "- Use `type(variable)` to check a variable's data type.\n"
   ]
  },
  {
   "cell_type": "code",
   "execution_count": null,
   "id": "2f2f2010-41f2-45dd-829a-4f7c65c1b826",
   "metadata": {},
   "outputs": [],
   "source": [
    "# Example 1.1: Variables assignmet\n",
    "name = \"Alice\"       # A string variable\n",
    "age = 25             # An integer variable\n",
    "height = 5.5         # A float variable\n",
    "is_student = True    # A boolean variable\n",
    "\n",
    "print(\"Name:\", name)\n",
    "print(\"Age:\", age)\n",
    "print(\"Height:\", height)\n",
    "print(\"Is a student:\", is_student)"
   ]
  },
  {
   "cell_type": "code",
   "execution_count": null,
   "id": "b061a0b6-d31c-44b6-aea8-85e8a587231a",
   "metadata": {},
   "outputs": [],
   "source": [
    "# Example 1.2: Demonstration of basic data types\n",
    "# Integer\n",
    "num1 = 10\n",
    "print(\"num1 is of type:\", type(num1))\n",
    "\n",
    "# Float\n",
    "num2 = 3.14\n",
    "print(\"num2 is of type:\", type(num2))\n",
    "\n",
    "# String\n",
    "greeting = \"Hello, Python!\"\n",
    "print(\"greeting is of type:\", type(greeting))\n",
    "\n",
    "# Boolean\n",
    "is_active = False\n",
    "print(\"is_active is of type:\", type(is_active))\n"
   ]
  },
  {
   "cell_type": "code",
   "execution_count": null,
   "id": "dce422cc-bf8b-460d-8078-4f2fab3f172c",
   "metadata": {},
   "outputs": [],
   "source": [
    "del name, age, height, is_student, num1, num2, greeting, is_active"
   ]
  },
  {
   "cell_type": "markdown",
   "id": "7efbd979-6d24-4f3f-b716-2bbaefe9a315",
   "metadata": {},
   "source": [
    "## Exercises"
   ]
  },
  {
   "cell_type": "markdown",
   "id": "99392722-2757-4a49-997f-1fd1168c7db2",
   "metadata": {},
   "source": [
    "**Ex 1.1: Declare Your Own Variables**\n",
    "\n",
    "1. Create a variable for your favorite color as a string.\n",
    "2. Create a variable for your age as an integer.\n",
    "3. Create a variable for your height as a float.\n",
    "4. Create a variable for whether you like Python as a boolean.\n",
    "5. Print all the previous variables"
   ]
  },
  {
   "cell_type": "markdown",
   "id": "6ac235bb-88f4-4d90-b8c7-67cf5541ea42",
   "metadata": {},
   "source": [
    "**Ex 1.2: String Manipulation and Type Conversion**\n",
    "\n",
    "1. Strings can be concatenated with `+` or repeated with `*`.\n",
    "2. Convert one data type to another using functions like `int()`, `float()`, and `str()`.\n"
   ]
  },
  {
   "cell_type": "markdown",
   "id": "f5ec18f3-9850-4508-aa0b-148af9a2ce65",
   "metadata": {},
   "source": [
    "**Ex 1.3: Work with Data Types**\n",
    "\n",
    "1. Create a string variable for your name and print a greeting using it.\n",
    "2. Add two integer variables and print the result.\n",
    "3. Multiply a float by an integer and print the result.\n",
    "4. Convert a string of numbers (e.g., \"123\") into an integer and add 10 to it.\n"
   ]
  },
  {
   "cell_type": "markdown",
   "id": "977a348d-f429-4bf8-bde7-ffc796613f96",
   "metadata": {},
   "source": [
    "**Ex 1.4: User Input and Type Casting**\n",
    "\n",
    "1. Ask the user to input their age as a string.\n",
    "2. Convert the input into an integer and add 5 to it.\n",
    "3. Print a message with the result."
   ]
  },
  {
   "cell_type": "markdown",
   "id": "bd8678c3-abe4-4c12-8072-52adcb99ce82",
   "metadata": {},
   "source": [
    "**Ex 1.5: Arithmetic with Mixed Types**\n",
    "\n",
    "1. Create two variables:\n",
    "   - A float (e.g., `price = 19.99`).\n",
    "   - A string representing a whole number (e.g., `quantity = \"3\"`).\n",
    "2. Convert the string variable into an integer.\n",
    "3. Multiply the float by the integer and print the result as a float.\n"
   ]
  },
  {
   "cell_type": "markdown",
   "id": "b6499e61-2049-4bc1-a3d0-7b7c9141434f",
   "metadata": {},
   "source": [
    "# **2. Basic Python Syntax**\n",
    "\n",
    "**11:00 AM** | Writing Python code: syntax, indentation, and structure."
   ]
  },
  {
   "cell_type": "markdown",
   "id": "cfed1809-c9b9-4635-82fe-5de50ccc587d",
   "metadata": {},
   "source": [
    "Python has a **simple and clean** syntax that makes it easy to read and write. This section will cover the basic rules of Python syntax and how to write and run Python code.\n",
    "\n",
    "[PEP 8 – Style Guide for Python Code](https://peps.python.org/pep-0008/)"
   ]
  },
  {
   "cell_type": "markdown",
   "id": "51ea194c-4336-4ff9-a726-b978d4329412",
   "metadata": {},
   "source": [
    "**Basic Syntax Rules in Python**\n",
    "\n",
    "1. **Case Sensitivity**  \n",
    "   - Python is case-sensitive. For example, `Name` and `name` are different variables.\n",
    "\n",
    "2. **Code Execution**  \n",
    "   - Python runs code line by line (top to bottom).\n",
    "\n",
    "3. **Comments**  \n",
    "   - Use `#` to write comments, which are ignored by Python. They are helpful for explaining your code.\n",
    "\n",
    "4. **Indentation**  \n",
    "   - Python uses indentation (spaces or tabs) to define blocks of code. Indentation is mandatory and replaces curly braces `{}` used in other languages.\n",
    "\n",
    "5. **Print Statements**  \n",
    "   - Use the `print()` function to display output."
   ]
  },
  {
   "cell_type": "code",
   "execution_count": null,
   "id": "69b4d50e-7ca2-49ce-bf37-c50b437451ed",
   "metadata": {},
   "outputs": [],
   "source": [
    "import this"
   ]
  },
  {
   "cell_type": "code",
   "execution_count": null,
   "id": "229d8e01",
   "metadata": {},
   "outputs": [],
   "source": [
    "# Example 2.1: Comments and indentation\n",
    "\n",
    "# This is a comment\n",
    "print(\"Hello, World!\")  # This prints a message"
   ]
  },
  {
   "cell_type": "code",
   "execution_count": null,
   "id": "5f4a66ff",
   "metadata": {},
   "outputs": [],
   "source": [
    "del a"
   ]
  },
  {
   "cell_type": "code",
   "execution_count": null,
   "id": "e347ee67-185d-4607-93b8-2d2405c1ec8f",
   "metadata": {},
   "outputs": [],
   "source": [
    "\n",
    "# Indentation example\n",
    "if a <= 3:\n",
    "    print(\"Indented block of code\")\n",
    "\n",
    "print(\"sono arrivato qui\")"
   ]
  },
  {
   "cell_type": "code",
   "execution_count": null,
   "id": "cea5d7c4",
   "metadata": {},
   "outputs": [],
   "source": []
  },
  {
   "cell_type": "code",
   "execution_count": null,
   "id": "7fd42e6b-6f33-4e89-94ac-5bf2073b6331",
   "metadata": {},
   "outputs": [],
   "source": [
    "# Example 2.2: Basic syntax\n",
    "\n",
    "# Case sensitivity\n",
    "Name = \"Alice\"\n",
    "name = \"Bob\"\n",
    "print(\"Name:\", Name)\n",
    "print(\"name:\", name)\n",
    "\n",
    "# Comments\n",
    "# This is a comment and will not run\n",
    "print(\"Python ignores comments\")\n",
    "\n",
    "# Indentation\n",
    "if 5 > 3:\n",
    "    print(\"5 is greater than 3\")  # Properly indented\n",
    "# Removing indentation here would cause an error!"
   ]
  },
  {
   "cell_type": "markdown",
   "id": "d0b14870-26ab-458c-ad75-6c18a751acbb",
   "metadata": {},
   "source": [
    "## Exercises"
   ]
  },
  {
   "cell_type": "markdown",
   "id": "d915f7ce-5ebf-40ff-bd34-b9950dd78afb",
   "metadata": {},
   "source": [
    "**Ex 2.1: Print and Comments**\n",
    "1. Write a print statement that outputs: \"Python is fun!\"\n",
    "2. Add a comment above the print statement explaining what it does.\n",
    "3. Add a second print statement with your favorite hobby.\n"
   ]
  },
  {
   "cell_type": "markdown",
   "id": "9af24dfb-a201-48dd-b50c-06ab770001a5",
   "metadata": {},
   "source": [
    "**Ex 2.2: Case Sensitivity and Indentation**\n",
    "1. Declare two variables: `Name = \"Alice\"` and `name = \"Bob\"`. Print both variables to see the difference.\n",
    "2. Write an `if` statement that checks if `10 > 5` and prints \"10 is greater than 5\".\n",
    "3. Experiment by removing indentation under the `if` statement and observe the error.\n"
   ]
  },
  {
   "cell_type": "markdown",
   "id": "12a3f443-6687-43ee-bb94-4c80cbca1f9c",
   "metadata": {},
   "source": [
    "**Ex 2.3: Debugging Syntax Errors**\n",
    "\n",
    "1. The code below has syntax errors. Copy and paste it into the code cell, run it, and fix the errors:\n",
    "   ```python\n",
    "   print(\"Welcome to Python\")\n",
    "   if(5 > 3)\n",
    "   print(\"5 is greater than 3\")\n"
   ]
  },
  {
   "cell_type": "markdown",
   "id": "6aca5267-c42b-4bc5-a923-8e3c565c6606",
   "metadata": {},
   "source": [
    "**Ex 2.4: Practice Indentation with a Nested Block**\n",
    "\n",
    "1. Write an `if` statement that checks if `7 > 3`. \n",
    "2. Inside this block, write another `if` statement that checks if `7 > 5`.\n",
    "3. Print a message inside the nested block.\n",
    "4. Experiment with incorrect indentation and observe the errors.\n"
   ]
  },
  {
   "cell_type": "markdown",
   "id": "891bec90-6d08-49c5-a94e-de2beb595717",
   "metadata": {
    "jp-MarkdownHeadingCollapsed": true
   },
   "source": [
    "# **Break** **11:25 AM**\n",
    "\n"
   ]
  },
  {
   "cell_type": "markdown",
   "id": "493c21bc-e9cc-46d1-a870-03244484da43",
   "metadata": {},
   "source": [
    "# **3. Operators**\n",
    "\n",
    "**11:35 PM** | Arithmetic, logical, and comparison operators in Python."
   ]
  },
  {
   "cell_type": "markdown",
   "id": "2115b0df-1749-4830-8804-5eeb547ff7cc",
   "metadata": {},
   "source": [
    "Operators in Python allow you to perform operations on variables and values. Python supports a variety of operators, including arithmetic, logical, and comparison operators."
   ]
  },
  {
   "cell_type": "markdown",
   "id": "22fa86f8-4a15-49b1-80d8-2a77d220cd50",
   "metadata": {},
   "source": [
    "## Arithmetic Operators\n",
    "Arithmetic operators are used to perform mathematical operations:\n",
    "\n",
    "| Operator | Description         | Example       |\n",
    "|----------|---------------------|---------------|\n",
    "| `+`      | Addition            | `3 + 5 = 8`  |\n",
    "| `-`      | Subtraction         | `10 - 3 = 7` |\n",
    "| `*`      | Multiplication      | `4 * 2 = 8`  |\n",
    "| `/`      | Division            | `10 / 2 = 5` |\n",
    "| `%`      | Modulus             | `10 % 3 = 1` |\n",
    "| `**`     | Exponentiation      | `2 ** 3 = 8` |\n",
    "| `//`     | Floor Division      | `10 // 3 = 3`|\n",
    "\n",
    "Note:\n",
    "- The modulus operator (%) in Python returns the remainder of dividing two numbers.\n",
    "- Floor division is a mathematical operation that divides two numbers and rounds the result down to the nearest whole number."
   ]
  },
  {
   "cell_type": "code",
   "execution_count": null,
   "id": "31429cb1",
   "metadata": {},
   "outputs": [],
   "source": [
    "# Example 3.1: Operators demonstration\n",
    "a = 10\n",
    "b = 3"
   ]
  },
  {
   "cell_type": "code",
   "execution_count": null,
   "id": "cc78c109-a834-4119-ad60-cb28f7857791",
   "metadata": {},
   "outputs": [],
   "source": [
    "print(\"Addition:\", a + b)         # Addition\n",
    "print(\"Subtraction:\", a - b)      # Subtraction\n",
    "print(\"Multiplication:\", a * b)   # Multiplication\n",
    "print(\"Division:\", a / b)         # Division\n",
    "print(\"Modulus:\", a % b)          # Modulus\n",
    "print(\"Exponentiation:\", a ** b)  # Exponentiation\n",
    "print(\"Floor Division:\", a // b)  # Floor Division"
   ]
  },
  {
   "cell_type": "markdown",
   "id": "19c1f542-eb11-4486-ae78-1eb82b9d9fbd",
   "metadata": {},
   "source": [
    "## Comparison Operators\n",
    "\n",
    "Comparison operators are used to compare two values:\n",
    "\n",
    "| Operator | Description                | Example       |\n",
    "|----------|----------------------------|---------------|\n",
    "| `==`     | Equal to                   | `5 == 5` → True  |\n",
    "| `!=`     | Not equal to               | `5 != 3` → True  |\n",
    "| `>`      | Greater than               | `5 > 3` → True   |\n",
    "| `<`      | Less than                  | `3 < 5` → True   |\n",
    "| `>=`     | Greater than or equal to   | `5 >= 3` → True  |\n",
    "| `<=`     | Less than or equal to      | `3 <= 5` → True  |"
   ]
  },
  {
   "cell_type": "code",
   "execution_count": null,
   "id": "efc025d5",
   "metadata": {},
   "outputs": [],
   "source": [
    "del a, b"
   ]
  },
  {
   "cell_type": "code",
   "execution_count": null,
   "id": "982cc958-1379-43aa-82dd-afecf284a9f7",
   "metadata": {},
   "outputs": [],
   "source": [
    "#  Example 3.2: Comparison operators demonstration\n",
    "x = 5\n",
    "y = 3\n",
    "\n",
    "print(\"Equal to:\", x == y)          # Equal to\n",
    "print(\"Not equal to:\", x != y)      # Not equal to\n",
    "print(\"Greater than:\", x > y)       # Greater than\n",
    "print(\"Less than:\", x < y)          # Less than\n",
    "print(\"Greater than or equal to:\", x >= y)  # Greater than or equal to\n",
    "print(\"Less than or equal to:\", x <= y)     # Less than or equal to\n"
   ]
  },
  {
   "cell_type": "code",
   "execution_count": null,
   "id": "f621162b-b981-4ea4-890a-3ed7def19a86",
   "metadata": {},
   "outputs": [],
   "source": [
    "del a, b, x, y"
   ]
  },
  {
   "cell_type": "markdown",
   "id": "ff415e5b-91f2-4299-becd-4b79c2d68625",
   "metadata": {},
   "source": [
    "## Exercises"
   ]
  },
  {
   "cell_type": "markdown",
   "id": "ecad305b-4cf1-4f64-9de2-bbef735fe8a3",
   "metadata": {},
   "source": [
    "**Ex 3.1: Arithmetic Operators**\n",
    "1. Create two variables, `num1` and `num2`, and assign them any values.\n",
    "2. Calculate and print the following:\n",
    "   - Sum of `num1` and `num2`.\n",
    "   - Difference between `num1` and `num2`.\n",
    "   - Product of `num1` and `num2`.\n",
    "   - Floor division of `num1` by `num2`.\n",
    "   - Remainder when `num1` is divided by `num2`."
   ]
  },
  {
   "cell_type": "markdown",
   "id": "6e5f4392-e8a7-4ca9-a19e-78d7e796a713",
   "metadata": {},
   "source": [
    "**Ex 3.2: Logical Operators**\n",
    "1. Create a variable `x` and assign it a value.\n",
    "2. Write logical expressions to check and print:\n",
    "   - Whether `x` is greater than 10 and less than 20.\n",
    "   - Whether `x` is less than 5 or greater than 15.\n",
    "   - Use `not` to reverse the result of whether `x` is greater than 10."
   ]
  },
  {
   "cell_type": "code",
   "execution_count": null,
   "id": "d3a453ba-d975-4268-bd16-5bddb5e7c192",
   "metadata": {},
   "outputs": [],
   "source": [
    "del num1, num2, x"
   ]
  },
  {
   "cell_type": "markdown",
   "id": "541a0dd5-8d18-4dc6-89c0-c29726a32227",
   "metadata": {},
   "source": [
    "# **4. Conditional Statements and Loops**\n",
    "**12:00 PM** | If-else, for, while and built-in functions."
   ]
  },
  {
   "cell_type": "markdown",
   "id": "b78b95ad-8a89-45f2-a05b-c5cfa57a9d4d",
   "metadata": {},
   "source": [
    "Conditional statements and loops are the backbone of decision-making and repetition in programming. Python provides powerful and intuitive ways to write conditions and iterate over data."
   ]
  },
  {
   "cell_type": "markdown",
   "id": "8baf5f4f-17a9-4c22-9dd2-955d82258258",
   "metadata": {},
   "source": [
    "## **if, else, and elif**\n",
    "Conditional statements allow your program to make decisions based on conditions."
   ]
  },
  {
   "cell_type": "markdown",
   "id": "0493609e-87b1-45dd-957a-2223ac385480",
   "metadata": {
    "jp-MarkdownHeadingCollapsed": true
   },
   "source": [
    "**Syntax:**\n",
    "```python\n",
    "if condition:\n",
    "    # Code to execute if condition is True\n",
    "elif another_condition:\n",
    "    # Code to execute if another_condition is True\n",
    "else:\n",
    "    # Code to execute if none of the above conditions are True\n",
    "```\n",
    "\n",
    "**Execution Order:**\n",
    "\n",
    "- The Python interpreter evaluates the **if statement first.**\n",
    "- If the condition in the if statement is **True**, the associated block of code is executed, and the interpreter **skips** all subsequent elif and else blocks.\n",
    "- If the if condition is **False**, the interpreter checks the conditions of the subsequent elif statements (if any) in order.\n",
    "- If one of the elif conditions evaluates to True, its corresponding block is executed, and the interpreter **skips** the rest of the conditions.\n",
    "- If **none** of the conditions in the if or elif statements are True, the code block under the **else** statement (if present) is executed."
   ]
  },
  {
   "cell_type": "code",
   "execution_count": null,
   "id": "541408c4-c64d-44d3-a912-b98b211eee84",
   "metadata": {},
   "outputs": [],
   "source": [
    "# Example 4.1: Conditional statements\n",
    "x = 15\n",
    "\n",
    "if x >= 15:\n",
    "    print(\"1\") #x is greater than 15\")\n",
    "elif x == 10:\n",
    "    print(\"2\") #x is equal to 10\")\n",
    "else:\n",
    "    print(\"3\") # x is less than 10\")\n",
    "\n",
    "# What does it prints?"
   ]
  },
  {
   "cell_type": "code",
   "execution_count": null,
   "id": "2d8dfe88-12a1-427d-a9ab-f1ad16eeefcf",
   "metadata": {
    "scrolled": true
   },
   "outputs": [],
   "source": [
    "# # Example 4.2: Conditional statements\n",
    "x = 16\n",
    "\n",
    "if x > 15:\n",
    "    print(\"x is greater than 15\")\n",
    "elif x == 16:\n",
    "    print(\"x is equal to 16\")\n",
    "else:\n",
    "    print(\"x is less than 16\")"
   ]
  },
  {
   "cell_type": "code",
   "execution_count": null,
   "id": "4f260fce-86b2-4e06-83a5-cbd3e9984eb0",
   "metadata": {},
   "outputs": [],
   "source": [
    "# Live example\n",
    "x = 16\n",
    "\n",
    "if x > 20:\n",
    "    print(\"x is greater than 20\")\n",
    "elif x < 13:\n",
    "    print(\"x is less then 13\")\n",
    "elif x == 15:\n",
    "    print(\"x is equal to 15\")\n",
    "else:\n",
    "    print(\"none of the previuos are matched\")"
   ]
  },
  {
   "cell_type": "code",
   "execution_count": null,
   "id": "1af5a6ca-f4e1-4b81-99ea-a86f3a7cca4b",
   "metadata": {},
   "outputs": [],
   "source": [
    "del x"
   ]
  },
  {
   "cell_type": "markdown",
   "id": "5bd9d22d-b4eb-477a-b003-a4e3c6b44396",
   "metadata": {},
   "source": [
    "**Logical Diagram**\n",
    "\n",
    "```python\n",
    "if condition_1 is True:\n",
    "    Execute Block 1\n",
    "    Skip all further checks\n",
    "elif condition_2 is True:\n",
    "    Execute Block 2\n",
    "    Skip all further checks\n",
    "elif condition_3 is True:\n",
    "    Execute Block 3\n",
    "    Skip all further checks\n",
    "else:\n",
    "    Execute the else block (if none of the above conditions were True)\n",
    "```\n",
    "\n",
    "**Key Points:**\n",
    "- Only the first condition that evaluates to True is executed.\n",
    "- If no conditions are True, and there's an else block, it acts as a default case.\n",
    "- **All conditions are not checked**: Once a condition is True, the rest of the conditions (elif or else) are ignored.\n",
    "- **Order Matters**: The interpreter evaluates conditions in order. If you place a more general condition first, more specific conditions later in the chain will never be evaluated.\n",
    "\n",
    "---"
   ]
  },
  {
   "cell_type": "markdown",
   "id": "5001ab37-ab9b-44ba-9e41-be636ad209ad",
   "metadata": {},
   "source": [
    "## **Loops: for and while**\n",
    "\n",
    "\n",
    "Loops let you **repeat actions** efficiently, enabling you to automate repetitive tasks and process collections of data systematically. \n",
    "\n",
    "Instead of writing the same code multiple times, loops allow you to define a set of instructions that can execute repeatedly **for each item in a sequence** (such as a list, string, or range of numbers) or **until a specific condition is met**. This not only saves time but also makes your code cleaner, more concise, and easier to maintain."
   ]
  },
  {
   "cell_type": "markdown",
   "id": "0eeac291-2fb8-415d-a924-8a0627d5ce57",
   "metadata": {},
   "source": [
    "### For Loop\n",
    "The `for` loop is used to **iterate** over a sequence (like a list, tuple, or string).\n",
    "\n",
    "**Syntax:**\n",
    "\n",
    "```python\n",
    "for variable in sequence:\n",
    "    # Code to execute for each item in the sequence\n",
    "```"
   ]
  },
  {
   "cell_type": "code",
   "execution_count": null,
   "id": "1ed4edeb-3e26-49ca-9d41-37b2def9e1bf",
   "metadata": {},
   "outputs": [],
   "source": [
    "# Example 4.3: For loop\n",
    "for i in [20, 39, 32]:\n",
    "    print(i+20)\n",
    "\n",
    "# What does it print?"
   ]
  },
  {
   "cell_type": "markdown",
   "id": "fa806eaf-b65a-414f-9ea6-0f9038f6008f",
   "metadata": {},
   "source": [
    "### While Loop\n",
    "The while loop continues as long as a **condition is True**.\n",
    "\n",
    "**Syntax:**\n",
    "```python\n",
    "while condition:\n",
    "    # Code to execute as long as condition is True\n",
    "```"
   ]
  },
  {
   "cell_type": "code",
   "execution_count": null,
   "id": "c734950d-a843-45cc-9ddf-f6bf15315b26",
   "metadata": {},
   "outputs": [],
   "source": [
    "# Example 4.4: While loop\n",
    "count = 0\n",
    "\n",
    "while count < 3:\n",
    "    print(\"Count:\", count)\n",
    "    \n",
    "    count += 1\n",
    "    \n",
    "    if count == 2:\n",
    "        break\n",
    "    \n",
    "\n",
    "# What does it print?"
   ]
  },
  {
   "cell_type": "markdown",
   "id": "ea4bfb71-e32e-4507-8694-e4fc23f2edbe",
   "metadata": {},
   "source": [
    "---"
   ]
  },
  {
   "cell_type": "markdown",
   "id": "5e6a616a-edda-49ee-8ad1-23ec1ae4b13c",
   "metadata": {},
   "source": [
    "## **Built-in functions: Range, Map, and Filter**\n",
    "\n",
    "Built-in functions are functions that are readily available in Python and can be used without needing to import any external libraries or modules. These functions perform common tasks and operations, making programming more efficient by reducing the need for developers to write basic functionality from scratch.\n",
    "\n",
    "Python provides a wide range of built-in functions to perform operations on data, handle input/output, manipulate collections, and more."
   ]
  },
  {
   "cell_type": "markdown",
   "id": "222bd181-79ea-45f6-839f-aaa0fcf9e082",
   "metadata": {},
   "source": [
    "### `range()`\n",
    "\n",
    "The range() function **generates a sequence of numbers** and is commonly used for looping a specific number of times in for loops.\n",
    "\n",
    "**Syntax:**\n",
    "```python\n",
    "range(start, stop, step)\n",
    "```\n",
    "\n",
    "- start (optional): Starting value (default: 0).\n",
    "- stop (required): Ending value (exclusive).\n",
    "- step (optional): Increment value (default: 1)."
   ]
  },
  {
   "cell_type": "code",
   "execution_count": null,
   "id": "d1b28788-c610-44bf-aa94-a6752fd2abbd",
   "metadata": {},
   "outputs": [],
   "source": [
    "# Example 4.5: Generate numbers from 0 to 4\n",
    "for i in range(5):\n",
    "    print(i)"
   ]
  },
  {
   "cell_type": "code",
   "execution_count": null,
   "id": "75bfae1c-8dda-437b-b4a3-29f1a395036d",
   "metadata": {},
   "outputs": [],
   "source": [
    "# Example 4.6: Generate numbers from 2 to 8, stepping by 2\n",
    "for i in range(2, 10, 2):\n",
    "    print(i)"
   ]
  },
  {
   "cell_type": "markdown",
   "id": "81014460-14b0-4fc0-ac77-72397f9df71a",
   "metadata": {
    "jp-MarkdownHeadingCollapsed": true
   },
   "source": [
    "### `map()`\n",
    "\n",
    "The map() function applies a specified function to each item in an iterable (like a list) and returns a map object, which can be converted to a list, tuple, etc.\n",
    "\n",
    "**Syntax:**\n",
    "```python\n",
    "map(function, iterable)\n",
    "```\n",
    "\n",
    "Where:\n",
    "\n",
    "- function is a function to apply to each item in the iterable\n",
    "- iterable is the collection of items to process"
   ]
  },
  {
   "cell_type": "code",
   "execution_count": null,
   "id": "5cf02936-7dd8-4a9d-adff-3e1bea30564c",
   "metadata": {},
   "outputs": [],
   "source": [
    "# Example 4.7: Double each number in a list\n",
    "\n",
    "nums = [1, 2, 3]\n",
    "squared = map(lambda x: x**2, nums)\n",
    "print(list(squared))"
   ]
  },
  {
   "cell_type": "code",
   "execution_count": null,
   "id": "4ad5eabb-9a29-419a-a92f-ca9a2fc1a9ea",
   "metadata": {},
   "outputs": [],
   "source": [
    "# Example 4.5: Convert Temperatures from Celsius to Fahrenheit\n",
    "\n",
    "#Define a function to convert Celsius to Fahrenheit\n",
    "def celsius_to_fahrenheit(celsius):\n",
    "    return (celsius * 9/5) + 32\n",
    "\n",
    "# List of temperatures in Celsius\n",
    "temperatures_celsius = [0, 20, 30, 40]\n",
    "\n",
    "# Use map with the defined function\n",
    "temperatures_fahrenheit = map(celsius_to_fahrenheit, temperatures_celsius)\n",
    "\n",
    "# Convert the map object to a list and print\n",
    "print(list(temperatures_fahrenheit))"
   ]
  },
  {
   "cell_type": "markdown",
   "id": "6479e0b9-25ab-49b8-859f-f08279e378b0",
   "metadata": {},
   "source": [
    "### `filter()`\n",
    "\n",
    "The filter() function filters items from an iterable based on a condition specified by a function, returning a filter object, which can be converted to a list, tuple, etc.\n",
    "\n",
    "**Syntax:**\n",
    "```python\n",
    "filter(function, iterable)\n",
    "```\n",
    "\n",
    "Where:\n",
    "\n",
    "- function is a function that returns True or False for each item\n",
    "- iterable is the collection of items to filter1"
   ]
  },
  {
   "cell_type": "code",
   "execution_count": null,
   "id": "cc8f0077-38f9-4f71-9ef2-c3cf0dbe630f",
   "metadata": {},
   "outputs": [],
   "source": [
    "# Example 4.9: Filter out only even numbers from a list\n",
    "nums = [1, 2, 3, 4, 5, 6]\n",
    "even = filter(lambda x: x % 2 == 0, nums)\n",
    "print(list(even))  # Output: [2, 4, 6]\n"
   ]
  },
  {
   "cell_type": "markdown",
   "id": "282c0df9-8770-44a8-a548-b95b5bbc126e",
   "metadata": {},
   "source": [
    "---"
   ]
  },
  {
   "cell_type": "markdown",
   "id": "01a744f1-5bce-43ef-9ec1-c8ed183bff36",
   "metadata": {},
   "source": [
    "## Exercises"
   ]
  },
  {
   "cell_type": "markdown",
   "id": "aee5916c-bff2-45b0-871e-837969fba072",
   "metadata": {},
   "source": [
    "**Exercise 4.1: If-Else Statement**  \n",
    "\n",
    "1. Write a program that checks if a number is positive, negative, or zero.\n",
    "2. Use an `if-elif-else` statement to print the result."
   ]
  },
  {
   "cell_type": "markdown",
   "id": "b9c19fb8-971b-4cf8-b58d-ff88d1055e76",
   "metadata": {},
   "source": [
    "**Exercise 4.2: For Loop with Range**\n",
    "\n",
    "1. Write a `for` loop to print all even numbers between 1 and 20 (inclusive)."
   ]
  },
  {
   "cell_type": "markdown",
   "id": "177bbe37-b767-4966-b836-11f0df38740a",
   "metadata": {},
   "source": [
    "**Exercise 4.3: While Loop**\n",
    "1. Use a `while` loop to print the numbers from 5 to 1 in reverse order."
   ]
  },
  {
   "cell_type": "markdown",
   "id": "461fd017-836a-4e4f-a8be-a03c4a620fb0",
   "metadata": {},
   "source": [
    "**Exercise 4.4: Map and Filter**\n",
    "1. Create a list of numbers `nums = [1, 2, 3, 4, 5]`.\n",
    "2. Use `map()` to create a new list with each number squared.\n",
    "3. Use `filter()` to create a list of only the even numbers."
   ]
  },
  {
   "cell_type": "markdown",
   "id": "99f06906-04ab-4f40-a8bb-3d667090ee92",
   "metadata": {},
   "source": [
    "**Exercise 4.5: Count Vowels in a String**\n",
    "\n",
    "```python\n",
    "# Input string\n",
    "text = \"Loops are powerful tools in programming.\"\n",
    "```\n",
    "Your tasks:\n",
    "1. Initialize a variable `vowel_count` to 0.\n",
    "2. Iterate over each character in the string using a `for` loop.\n",
    "3. Check if the character is a vowel (a, e, i, o, u, both uppercase and lowercase).\n",
    "4. Increment `vowel_count` for each vowel.\n",
    "5. Print the final value of `vowel_count`."
   ]
  },
  {
   "cell_type": "markdown",
   "id": "2964755f-ffec-4a1b-bc0b-a144f9ad2c46",
   "metadata": {},
   "source": [
    "# **5. Data Structures**\n",
    "**12:30 PM** | Lists, Tuples, Set and Dictionaries."
   ]
  },
  {
   "cell_type": "markdown",
   "id": "74c9ec91-13b6-457a-8d2f-8be1c6b4f288",
   "metadata": {},
   "source": [
    "In Python, we use various data structures to organize and store data.\n",
    "Lists, Tuples, Sets, and Dictionaries are some of the most commonly used data structures.\n",
    "They are essential for creating efficient, readable, and well-organized code."
   ]
  },
  {
   "cell_type": "markdown",
   "id": "8c21dff2-17b5-4722-bd3c-8b1f77155bf0",
   "metadata": {},
   "source": [
    "## Mutable vs Immutable\n",
    "\n",
    "In Python, the terms mutable and immutable refer to the ability to modify the content or state of an object after it has been created.\n",
    "\n",
    "\n",
    "| Feature                | Mutable Objects                | Immutable Objects                |\n",
    "|------------------------|---------------------------------|----------------------------------|\n",
    "| **Definition**          | Objects whose contents can be changed after creation. | Objects whose contents cannot be changed after creation. |\n",
    "| **Examples**            | Lists, Dictionaries, Sets       | Tuples, Strings, Integers, Floats, Booleans |\n",
    "| **Modification**        | Can be modified in place (e.g., add, remove, change). | Cannot be modified, creating new objects is required. |\n",
    "| **Performance Impact**  | Modifying mutable objects in-place is generally faster. | Creating new objects may involve more memory usage and time. |\n",
    "| **Use Cases**           | Used when data needs to be changed (e.g., modifying a list of items). | Used when data should remain constant and cannot be changed (e.g., coordinates, dates). |\n"
   ]
  },
  {
   "cell_type": "markdown",
   "id": "e09e349e-58d9-492a-a0bc-bd4fe343df9d",
   "metadata": {},
   "source": [
    "## **Lists**\n",
    "\n",
    "A list is an ordered, mutable (changeable), and indexable collection of items.\n",
    "Lists can hold different types of data (e.g., numbers, strings, other lists)."
   ]
  },
  {
   "cell_type": "markdown",
   "id": "6ccd23ec",
   "metadata": {
    "jp-MarkdownHeadingCollapsed": true
   },
   "source": [
    "**Syntax:**\n",
    "```python\n",
    "my_list = [1, 2, 3, \"hello\", True]\n",
    "```"
   ]
  },
  {
   "cell_type": "code",
   "execution_count": null,
   "id": "f1ef1743",
   "metadata": {
    "jp-MarkdownHeadingCollapsed": true
   },
   "outputs": [],
   "source": [
    "# Key Operations\n",
    "\n",
    "my_list[0] # Accessing elements\n",
    "my_list[0] = 10 # Modifying elements\n",
    "my_list.append(4) # Adding elements\n",
    "my_list.remove(3) # Removing elements \n",
    "my_list[1:3] # Slicing"
   ]
  },
  {
   "cell_type": "code",
   "execution_count": null,
   "id": "38c612a1-3df9-425f-bae5-907506d50770",
   "metadata": {},
   "outputs": [],
   "source": [
    "# Examples 5.1\n",
    "my_list = [4, 1, 2, 3, \"Python\", 4, 4, 4]\n",
    "\n",
    "print(my_list[2])  # Access element at index 2"
   ]
  },
  {
   "cell_type": "code",
   "execution_count": null,
   "id": "b1d44afd-d63e-4721-a8ce-853b46a6b3a2",
   "metadata": {},
   "outputs": [],
   "source": [
    "# Examples 5.2\n",
    "my_list.append(\"New Element\")  # Add element\n",
    "my_list.remove(2)  # Remove element by value\n",
    "\n",
    "print(my_list)"
   ]
  },
  {
   "cell_type": "code",
   "execution_count": null,
   "id": "2f9f8f12",
   "metadata": {},
   "outputs": [],
   "source": [
    "# Examples 5.2\n",
    "my_list.append(\"New Element\")  # Add element\n",
    "my_list.remove(2)  # Remove element by value\n",
    "\n",
    "print(my_list)"
   ]
  },
  {
   "cell_type": "code",
   "execution_count": null,
   "id": "fedf7ef8",
   "metadata": {},
   "outputs": [],
   "source": [
    "# Live exercise\n",
    "\n",
    "my_list = [4, 1, 2, 3, \"Python\", 4, 4, 4]"
   ]
  },
  {
   "cell_type": "code",
   "execution_count": null,
   "id": "70eff198",
   "metadata": {},
   "outputs": [],
   "source": [
    "da_cancellare = int(input())"
   ]
  },
  {
   "cell_type": "code",
   "execution_count": null,
   "id": "a2a18262",
   "metadata": {},
   "outputs": [],
   "source": [
    "list = [7,7,1,2,3,4,5,6,7,7,7,7]\n",
    "\n",
    "while da_cancellare in list:\n",
    "    try:\n",
    "        list.remove(da_cancellare)\n",
    "        print(list)\n",
    "    except:\n",
    "        print(da_cancellare, \"non è presente\")"
   ]
  },
  {
   "cell_type": "markdown",
   "id": "39f62fba-a91d-4bd3-8847-457b56f8a3e0",
   "metadata": {},
   "source": [
    "**Exercise 5.1: Play with the list**\n",
    "\n",
    "Create a list of your 5 favorite foods, modify one item, and then print the updated list. "
   ]
  },
  {
   "cell_type": "markdown",
   "id": "3c09f7f8-a86f-46d4-b1f3-0db0483bfdf9",
   "metadata": {},
   "source": [
    "## **Tuples**\n",
    "\n",
    "A tuple is an ordered, immutable collection of items.\n",
    "Unlike lists, once created, elements in a tuple cannot be modified."
   ]
  },
  {
   "cell_type": "markdown",
   "id": "5d958852-f6b4-4eff-9bc8-86b7de3e7b9b",
   "metadata": {},
   "source": [
    "**Syntax:**\n",
    "\n",
    "```python\n",
    "my_tuple = (1, 2, 3, \"hello\", True)\n",
    "```\n",
    "\n",
    "**Key Operations:**\n",
    "\n",
    "```python\n",
    "my_tuple[0] # Accessing elements\n",
    "my_tuple[1:3] # Slicing\n",
    "tuple1 + tuple2 # Concatenating tuples\n",
    "```"
   ]
  },
  {
   "cell_type": "code",
   "execution_count": 1,
   "id": "a25db905-8282-439d-892a-0a7eb231d514",
   "metadata": {},
   "outputs": [
    {
     "name": "stdout",
     "output_type": "stream",
     "text": [
      "2\n"
     ]
    }
   ],
   "source": [
    "# Example 5.3\n",
    "my_tuple = (1, 2, 3, \"hello\")\n",
    "print(my_tuple[1])  # Access element"
   ]
  },
  {
   "cell_type": "code",
   "execution_count": 2,
   "id": "30d1af61-4892-43b5-a51b-ca795773de68",
   "metadata": {},
   "outputs": [
    {
     "ename": "TypeError",
     "evalue": "'tuple' object does not support item assignment",
     "output_type": "error",
     "traceback": [
      "\u001b[0;31m---------------------------------------------------------------------------\u001b[0m",
      "\u001b[0;31mTypeError\u001b[0m                                 Traceback (most recent call last)",
      "Cell \u001b[0;32mIn[2], line 2\u001b[0m\n\u001b[1;32m      1\u001b[0m \u001b[38;5;66;03m# Tuples cannot be modified:\u001b[39;00m\n\u001b[0;32m----> 2\u001b[0m \u001b[43mmy_tuple\u001b[49m\u001b[43m[\u001b[49m\u001b[38;5;241;43m0\u001b[39;49m\u001b[43m]\u001b[49m \u001b[38;5;241m=\u001b[39m \u001b[38;5;241m10\u001b[39m  \u001b[38;5;66;03m# This will raise an error\u001b[39;00m\n",
      "\u001b[0;31mTypeError\u001b[0m: 'tuple' object does not support item assignment"
     ]
    }
   ],
   "source": [
    "# Tuples cannot be modified:\n",
    "my_tuple[0] = 10  # This will raise an error"
   ]
  },
  {
   "cell_type": "markdown",
   "id": "e26f4b23-47af-43b2-973e-47be944c7baf",
   "metadata": {},
   "source": [
    "**Exercise 5.2**\n",
    "\n",
    "Create a tuple with your first three favorite animals. Try to access the second item and print it. Attempt to change an element and see the result."
   ]
  },
  {
   "cell_type": "markdown",
   "id": "8a860fbc-6d5a-42b6-8a3f-e96def868f8e",
   "metadata": {},
   "source": [
    "## **Sets**\n",
    "A set is an unordered collection of unique items.\n",
    "Sets do not allow duplicate elements, and the order of elements is not preserved."
   ]
  },
  {
   "cell_type": "markdown",
   "id": "b9e5b7a0-26bb-48ca-9562-2f6b71de33a4",
   "metadata": {},
   "source": [
    "**Syntax:**\n",
    "\n",
    "```python\n",
    "my_set = {1, 2, 3, 4}\n",
    "```\n",
    "\n",
    "**Key Operations:**\n",
    "\n",
    "```python\n",
    "my_set.add(5) # Adding elements\n",
    "my_set.remove(3) # Removing elements\n",
    "set1 | set2 # Set union\n",
    "set1 & set2 # Set intersection\n",
    "set1 - set2 # Set difference"
   ]
  },
  {
   "cell_type": "code",
   "execution_count": 3,
   "id": "31e41e74-5acd-49b1-91a4-0fbd6de6df7b",
   "metadata": {},
   "outputs": [
    {
     "name": "stdout",
     "output_type": "stream",
     "text": [
      "{1, 2, 3, 4}\n"
     ]
    }
   ],
   "source": [
    "# Example 5.4\n",
    "my_set = {1, 2, 3, 4, 4}\n",
    "print(my_set)  # Duplicates are removed: {1, 2, 3, 4}"
   ]
  },
  {
   "cell_type": "code",
   "execution_count": 4,
   "id": "577c3bf2-12eb-4531-a8bb-8d97734ef61f",
   "metadata": {},
   "outputs": [
    {
     "name": "stdout",
     "output_type": "stream",
     "text": [
      "{1, 3, 4, 5}\n"
     ]
    }
   ],
   "source": [
    "my_set.add(5)  # Adding an element\n",
    "my_set.remove(2)  # Removing an element\n",
    "print(my_set)"
   ]
  },
  {
   "cell_type": "markdown",
   "id": "7789f7be-fddc-4e7a-aff8-f82988826e28",
   "metadata": {},
   "source": [
    "**Exercise 5.3**\n",
    "\n",
    "Create a set with five numbers. Add a new number and remove one of the existing numbers. Print the final set."
   ]
  },
  {
   "cell_type": "markdown",
   "id": "a5cad0c3-5f5d-4436-b991-c7a9e5d4e3d1",
   "metadata": {},
   "source": [
    "## **Dictionaries**\n",
    "A dictionary is an unordered collection of key-value pairs. Keys are unique, and values can be any data type.\n",
    "Useful for fast lookups based on keys."
   ]
  },
  {
   "cell_type": "markdown",
   "id": "09427783-da82-431d-bf42-0bda574233c3",
   "metadata": {
    "jp-MarkdownHeadingCollapsed": true
   },
   "source": [
    "**Syntax:**\n",
    "\n",
    "```python\n",
    "\n",
    "my_dict = {\"name\": \"Alice\", \"age\": 25, \"city\": \"New York\"}\n",
    "```\n",
    "\n",
    "**Key Operations:**\n",
    "\n",
    "```python\n",
    "my_dict[\"name\"] # Accessing values\n",
    "my_dict[\"country\"] = \"USA\" # Adding key-value pairs\n",
    "del my_dict[\"age\"]  # Removing items\n",
    "for key in my_dict: # Iterating through keys\n",
    "for value in my_dict.values(): # Iterating through values\n",
    "```"
   ]
  },
  {
   "cell_type": "code",
   "execution_count": 5,
   "id": "095e01d3-501b-4eee-ad74-2b7f002780ad",
   "metadata": {
    "jp-MarkdownHeadingCollapsed": true
   },
   "outputs": [
    {
     "name": "stdout",
     "output_type": "stream",
     "text": [
      "Alice\n"
     ]
    }
   ],
   "source": [
    "# Example 5.5\n",
    "my_dict = {\"name\": \"Alice\", \"age\": 25, \"city\": \"New York\"}\n",
    "\n",
    "print(my_dict[\"name\"])  # Access by key"
   ]
  },
  {
   "cell_type": "code",
   "execution_count": 6,
   "id": "a53b00b1-fc7b-4e37-a68c-e11907e27480",
   "metadata": {
    "jp-MarkdownHeadingCollapsed": true
   },
   "outputs": [
    {
     "name": "stdout",
     "output_type": "stream",
     "text": [
      "{'name': 'Alice', 'age': 26, 'city': 'New York', 'country': 'USA'}\n"
     ]
    }
   ],
   "source": [
    "my_dict[\"age\"] = 26  # Modify value\n",
    "my_dict[\"country\"] = \"USA\"  # Add new key-value pair\n",
    "print(my_dict)"
   ]
  },
  {
   "cell_type": "code",
   "execution_count": 8,
   "id": "0eaee1e8-5d00-4134-bb44-9ce151bc4501",
   "metadata": {},
   "outputs": [],
   "source": [
    "persona_1 = {\"name\": \"Alice\", \"age\": 25, \"city\": \"New York\", \"name\": \"Luca\"}"
   ]
  },
  {
   "cell_type": "code",
   "execution_count": 9,
   "id": "875f4dec-edbc-4aa7-b210-bc6ff89a4d89",
   "metadata": {},
   "outputs": [
    {
     "data": {
      "text/plain": [
       "{'name': 'Luca', 'age': 25, 'city': 'New York'}"
      ]
     },
     "execution_count": 9,
     "metadata": {},
     "output_type": "execute_result"
    }
   ],
   "source": [
    "persona_1"
   ]
  },
  {
   "cell_type": "code",
   "execution_count": null,
   "id": "d7675f02-87e5-4e48-866d-997d3171b90f",
   "metadata": {},
   "outputs": [],
   "source": [
    "persona_2 = {\"name\": \"Giovanni\", \"age\": 5, \"city\": \"Roma\"}"
   ]
  },
  {
   "cell_type": "code",
   "execution_count": 12,
   "id": "ace3d497-0adf-4c8c-8280-578a19668120",
   "metadata": {},
   "outputs": [],
   "source": [
    "anagrafica = {}\n",
    "anagrafica[\"1\"] = persona_1\n",
    "anagrafica[\"2\"] = persona_2\n"
   ]
  },
  {
   "cell_type": "code",
   "execution_count": 13,
   "id": "5eb069be-b950-46d0-abf9-77a589ad0b50",
   "metadata": {},
   "outputs": [
    {
     "data": {
      "text/plain": [
       "{'1': {'name': 'Luca', 'age': 25, 'city': 'New York'},\n",
       " '2': {'name': 'Giovanni', 'age': 5, 'city': 'Roma'}}"
      ]
     },
     "execution_count": 13,
     "metadata": {},
     "output_type": "execute_result"
    }
   ],
   "source": [
    "anagrafica"
   ]
  },
  {
   "cell_type": "markdown",
   "id": "81de92a9-2130-4b6d-975b-99750a6eafe8",
   "metadata": {
    "jp-MarkdownHeadingCollapsed": true
   },
   "source": [
    "**Exercise 5.4**\n",
    "\n",
    "Create a dictionary with at least 3 key-value pairs representing your details (e.g., name, age, and country). Update one of the values and print the updated dictionary."
   ]
  },
  {
   "cell_type": "markdown",
   "id": "3696799c-3245-43dd-8da9-b5aa80730245",
   "metadata": {},
   "source": [
    "# Key Takeaways"
   ]
  },
  {
   "cell_type": "markdown",
   "id": "393d9a66-09a1-4aa4-90bc-3a0379d4a0b9",
   "metadata": {},
   "source": [
    "**1. Basic Data Types and Variables**\n",
    "- Variables store data, and their type depends on the value assigned.\n",
    "- You can check a variable's type using `type()`."
   ]
  },
  {
   "cell_type": "markdown",
   "id": "7bb4557d-3b79-42a8-acf0-2d788819a9f2",
   "metadata": {},
   "source": [
    "**2. Basic Python Syntax**\n",
    "- Python uses simple, clean syntax that is easy to learn and use.\n",
    "- Indentation is critical for defining blocks of code.\n",
    "- Comments help explain your code but are ignored by Python during execution.\n",
    "- Python is case-sensitive, so variable names like `Name` and `name` are different."
   ]
  },
  {
   "cell_type": "markdown",
   "id": "34cd1923-aebc-4298-b30a-a4c9c69157f5",
   "metadata": {},
   "source": [
    "**3. Operators**\n",
    "- Python operators allow you to perform calculations, compare values, and combine conditions.\n",
    "- Arithmetic operators help with math operations, comparison operators compare values, and logical operators combine conditions."
   ]
  },
  {
   "cell_type": "markdown",
   "id": "6c833dc0-02e9-4100-b3b1-5c0222873c0a",
   "metadata": {},
   "source": [
    "**4. Conditional Statements and Loops**\n",
    "- Conditional statements (`if`, `else`, `elif`) help programs make decisions.\n",
    "- Loops (`for`, `while`) let you repeat tasks efficiently.\n",
    "- Built-in functions like `range()`, `map()`, and `filter()` simplify iteration and functional programming."
   ]
  },
  {
   "cell_type": "markdown",
   "id": "55da857d-d456-4f1b-b50b-06aa87afce8c",
   "metadata": {},
   "source": [
    "**5. Data Structures**\n",
    "- Lists: **Ordered and mutable** collections, ideal for storing elements in a sequence.\n",
    "- Tuples: **Ordered and immutable** collections, ideal when you need a fixed collection of items.\n",
    "- Sets: **Unordered** collections of unique items, great for operations like union and intersection.\n",
    "- Dictionaries: **Unordered** collections of key-value pairs, perfect for fast lookups and mapping."
   ]
  },
  {
   "cell_type": "code",
   "execution_count": null,
   "id": "31eeea86-c01d-465d-a409-4a151ff6b55b",
   "metadata": {},
   "outputs": [],
   "source": []
  }
 ],
 "metadata": {
  "kernelspec": {
   "display_name": "Python 3 (ipykernel)",
   "language": "python",
   "name": "python3"
  },
  "language_info": {
   "codemirror_mode": {
    "name": "ipython",
    "version": 3
   },
   "file_extension": ".py",
   "mimetype": "text/x-python",
   "name": "python",
   "nbconvert_exporter": "python",
   "pygments_lexer": "ipython3",
   "version": "3.11.7"
  }
 },
 "nbformat": 4,
 "nbformat_minor": 5
}
